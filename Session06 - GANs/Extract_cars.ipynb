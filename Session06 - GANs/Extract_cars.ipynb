{
  "nbformat": 4,
  "nbformat_minor": 0,
  "metadata": {
    "colab": {
      "name": "Extract_cars.ipynb",
      "provenance": []
    },
    "kernelspec": {
      "name": "python3",
      "display_name": "Python 3"
    }
  },
  "cells": [
    {
      "cell_type": "code",
      "metadata": {
        "id": "44LaF__VNSGH",
        "colab_type": "code",
        "colab": {
          "base_uri": "https://localhost:8080/",
          "height": 34
        },
        "outputId": "00e91b80-1a51-4770-eaa8-9736dff86e6c"
      },
      "source": [
        "%cd /content/drive/My Drive/EVA4-Phase2/GANs"
      ],
      "execution_count": 1,
      "outputs": [
        {
          "output_type": "stream",
          "text": [
            "/content/drive/My Drive/EVA4-Phase2/GANs\n"
          ],
          "name": "stdout"
        }
      ]
    },
    {
      "cell_type": "code",
      "metadata": {
        "id": "bWPK1qK-N22R",
        "colab_type": "code",
        "colab": {}
      },
      "source": [
        "import os\n",
        "import pandas as pd\n",
        "from urllib.request import urlretrieve\n",
        "import matplotlib.pyplot as plt\n",
        "from PIL import Image"
      ],
      "execution_count": 9,
      "outputs": []
    },
    {
      "cell_type": "code",
      "metadata": {
        "id": "iKZYqst5OQji",
        "colab_type": "code",
        "colab": {
          "base_uri": "https://localhost:8080/",
          "height": 195
        },
        "outputId": "1740a93f-662a-4b56-b0b6-e6d224d2f16e"
      },
      "source": [
        "df = pd.read_csv('Dataset/sedans.csv')\n",
        "df.head()"
      ],
      "execution_count": 4,
      "outputs": [
        {
          "output_type": "execute_result",
          "data": {
            "text/html": [
              "<div>\n",
              "<style scoped>\n",
              "    .dataframe tbody tr th:only-of-type {\n",
              "        vertical-align: middle;\n",
              "    }\n",
              "\n",
              "    .dataframe tbody tr th {\n",
              "        vertical-align: top;\n",
              "    }\n",
              "\n",
              "    .dataframe thead th {\n",
              "        text-align: right;\n",
              "    }\n",
              "</style>\n",
              "<table border=\"1\" class=\"dataframe\">\n",
              "  <thead>\n",
              "    <tr style=\"text-align: right;\">\n",
              "      <th></th>\n",
              "      <th>id</th>\n",
              "      <th>make</th>\n",
              "      <th>model</th>\n",
              "      <th>trim</th>\n",
              "      <th>type</th>\n",
              "      <th>price</th>\n",
              "      <th>mileage</th>\n",
              "      <th>src</th>\n",
              "      <th>year</th>\n",
              "      <th>image-type</th>\n",
              "    </tr>\n",
              "  </thead>\n",
              "  <tbody>\n",
              "    <tr>\n",
              "      <th>0</th>\n",
              "      <td>1101</td>\n",
              "      <td>HYUNDAI</td>\n",
              "      <td>SONATA</td>\n",
              "      <td>SEL</td>\n",
              "      <td>sedan</td>\n",
              "      <td>19300</td>\n",
              "      <td>8348</td>\n",
              "      <td>cdnblob.carvana.io/2000288628/post-large/norma...</td>\n",
              "      <td>2018</td>\n",
              "      <td>original</td>\n",
              "    </tr>\n",
              "    <tr>\n",
              "      <th>1</th>\n",
              "      <td>1102</td>\n",
              "      <td>MERCEDES-BENZ</td>\n",
              "      <td>C-CLASS</td>\n",
              "      <td>C 300 4MATIC</td>\n",
              "      <td>sedan</td>\n",
              "      <td>24800</td>\n",
              "      <td>25194</td>\n",
              "      <td>cdnblob.carvana.io/2000286914/post-large/norma...</td>\n",
              "      <td>2016</td>\n",
              "      <td>original</td>\n",
              "    </tr>\n",
              "    <tr>\n",
              "      <th>2</th>\n",
              "      <td>1103</td>\n",
              "      <td>VOLKSWAGEN</td>\n",
              "      <td>PASSAT</td>\n",
              "      <td>2.0T SE</td>\n",
              "      <td>sedan</td>\n",
              "      <td>21500</td>\n",
              "      <td>4565</td>\n",
              "      <td>cdnblob.carvana.io/2000290982/post-large/norma...</td>\n",
              "      <td>2018</td>\n",
              "      <td>original</td>\n",
              "    </tr>\n",
              "    <tr>\n",
              "      <th>3</th>\n",
              "      <td>1104</td>\n",
              "      <td>LEXUS</td>\n",
              "      <td>IS</td>\n",
              "      <td>IS 250</td>\n",
              "      <td>sedan</td>\n",
              "      <td>22700</td>\n",
              "      <td>27192</td>\n",
              "      <td>cdnblob.carvana.io/2000288665/post-large/norma...</td>\n",
              "      <td>2015</td>\n",
              "      <td>original</td>\n",
              "    </tr>\n",
              "    <tr>\n",
              "      <th>4</th>\n",
              "      <td>1105</td>\n",
              "      <td>VOLKSWAGEN</td>\n",
              "      <td>PASSAT</td>\n",
              "      <td>2.0T SE</td>\n",
              "      <td>sedan</td>\n",
              "      <td>20000</td>\n",
              "      <td>12284</td>\n",
              "      <td>cdnblob.carvana.io/2000291311/post-large/norma...</td>\n",
              "      <td>2018</td>\n",
              "      <td>original</td>\n",
              "    </tr>\n",
              "  </tbody>\n",
              "</table>\n",
              "</div>"
            ],
            "text/plain": [
              "     id           make  ...  year image-type\n",
              "0  1101        HYUNDAI  ...  2018   original\n",
              "1  1102  MERCEDES-BENZ  ...  2016   original\n",
              "2  1103     VOLKSWAGEN  ...  2018   original\n",
              "3  1104          LEXUS  ...  2015   original\n",
              "4  1105     VOLKSWAGEN  ...  2018   original\n",
              "\n",
              "[5 rows x 10 columns]"
            ]
          },
          "metadata": {
            "tags": []
          },
          "execution_count": 4
        }
      ]
    },
    {
      "cell_type": "code",
      "metadata": {
        "id": "Ka7J65WjOZJ6",
        "colab_type": "code",
        "colab": {
          "base_uri": "https://localhost:8080/",
          "height": 118
        },
        "outputId": "9eb428b3-d334-428f-cda0-54d1a04d7775"
      },
      "source": [
        "urls = df['src']\n",
        "urls.head()"
      ],
      "execution_count": 5,
      "outputs": [
        {
          "output_type": "execute_result",
          "data": {
            "text/plain": [
              "0    cdnblob.carvana.io/2000288628/post-large/norma...\n",
              "1    cdnblob.carvana.io/2000286914/post-large/norma...\n",
              "2    cdnblob.carvana.io/2000290982/post-large/norma...\n",
              "3    cdnblob.carvana.io/2000288665/post-large/norma...\n",
              "4    cdnblob.carvana.io/2000291311/post-large/norma...\n",
              "Name: src, dtype: object"
            ]
          },
          "metadata": {
            "tags": []
          },
          "execution_count": 5
        }
      ]
    },
    {
      "cell_type": "code",
      "metadata": {
        "id": "AVm85aJ6OiGS",
        "colab_type": "code",
        "colab": {}
      },
      "source": [
        "im_folder = 'Dataset/cars_sedans'\n",
        "for idx, url in enumerate(urls):\n",
        "  im_path = os.path.join(im_folder, 'car_' + str(idx) + '.jpg') \n",
        "  urlretrieve(\"https://\" + url, im_path)"
      ],
      "execution_count": 11,
      "outputs": []
    },
    {
      "cell_type": "code",
      "metadata": {
        "id": "ZkIqAdhCPTlQ",
        "colab_type": "code",
        "colab": {
          "base_uri": "https://localhost:8080/",
          "height": 134
        },
        "outputId": "bec437f3-f72d-48ef-a41f-a7b4921627e9"
      },
      "source": [
        "for idx, im in enumerate(os.listdir(im_folder)):\n",
        "  print(im)\n",
        "  if idx == 5:\n",
        "    break\n",
        "\n",
        "impath = os.path.join(im_folder, 'car_5.jpg')\n",
        "print(impath)\n"
      ],
      "execution_count": 19,
      "outputs": [
        {
          "output_type": "stream",
          "text": [
            "car_0.jpg\n",
            "car_1.jpg\n",
            "car_2.jpg\n",
            "car_3.jpg\n",
            "car_4.jpg\n",
            "car_5.jpg\n",
            "Dataset/cars_sedans/car_5.jpg\n"
          ],
          "name": "stdout"
        }
      ]
    },
    {
      "cell_type": "code",
      "metadata": {
        "id": "09ssGQORedDn",
        "colab_type": "code",
        "colab": {}
      },
      "source": [
        "img = Image.open(impath)\n",
        "img.show()"
      ],
      "execution_count": 20,
      "outputs": []
    },
    {
      "cell_type": "code",
      "metadata": {
        "id": "Hol8SFoHiJAC",
        "colab_type": "code",
        "colab": {}
      },
      "source": [
        ""
      ],
      "execution_count": null,
      "outputs": []
    }
  ]
}